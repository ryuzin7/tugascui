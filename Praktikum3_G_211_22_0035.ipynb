{
  "nbformat": 4,
  "nbformat_minor": 0,
  "metadata": {
    "colab": {
      "provenance": []
    },
    "kernelspec": {
      "name": "python3",
      "display_name": "Python 3"
    },
    "language_info": {
      "name": "python"
    }
  },
  "cells": [
    {
      "cell_type": "code",
      "execution_count": 1,
      "metadata": {
        "colab": {
          "base_uri": "https://localhost:8080/"
        },
        "id": "_uX31LGHShIQ",
        "outputId": "29fe4b2b-ef7d-4c5a-ca86-22cd23ef2722"
      },
      "outputs": [
        {
          "output_type": "stream",
          "name": "stdout",
          "text": [
            "programming\n"
          ]
        }
      ],
      "source": [
        "# Input list\n",
        "input_list = ['p', 'r', 'o', 'g', 'r', 'a', 'm', 'm', 'i', 'n', 'g']\n",
        "\n",
        "# Menggabungkan elemen-elemen dalam list menjadi string\n",
        "output_string = ''.join(input_list)\n",
        "\n",
        "# Menampilkan hasil\n",
        "print(output_string)\n"
      ]
    }
  ]
}