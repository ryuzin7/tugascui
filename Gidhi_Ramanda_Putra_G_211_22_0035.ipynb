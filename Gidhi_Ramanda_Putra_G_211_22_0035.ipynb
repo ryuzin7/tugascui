{
  "cells": [
    {
      "cell_type": "markdown",
      "metadata": {
        "id": "view-in-github",
        "colab_type": "text"
      },
      "source": [
        "<a href=\"https://colab.research.google.com/github/ryuzin7/tugascui/blob/main/Gidhi_Ramanda_Putra_G_211_22_0035.ipynb\" target=\"_parent\"><img src=\"https://colab.research.google.com/assets/colab-badge.svg\" alt=\"Open In Colab\"/></a>"
      ]
    },
    {
      "cell_type": "markdown",
      "metadata": {
        "id": "JyG45Qk3qQLS"
      },
      "source": [
        "# Cells\n",
        "A notebook is a list of cells. Cells contain either explanatory text or executable code and its output. Click a cell to select it."
      ]
    },
    {
      "cell_type": "code",
      "source": [
        "# Menggunakan extend\n",
        "buah2 = [\"jeruk\", \"apel\"]\n",
        "nama_buah.extend(buah2)\n",
        "print(\"\\nList Buah (extend) : \\n\", nama_buah)\n",
        "\n",
        "# Menggunakan reverse\n",
        "nama_buah.reverse()\n",
        "print(\"\\nList Buah (reverse) : \\n\", nama_buah)\n",
        "\n",
        "# Menggunakan sort\n",
        "nama_buah.sort()\n",
        "print(\"\\nList Buah (sort) : \\n\", nama_buah)\n",
        "\n",
        "# Menggunakan Max\n",
        "print(\"\\nBuah dengan urutan terakhir (max) : \\n\", max(nama_buah))\n",
        "\n",
        "# Menggunakan Min\n",
        "print(\"\\nBuah dengan urutan pertama (min) : \\n\", min(nama_buah))\n"
      ],
      "metadata": {
        "colab": {
          "base_uri": "https://localhost:8080/"
        },
        "id": "qZk2fxioozOx",
        "outputId": "3ce7ad15-9f56-41b5-a516-c375d376c6d5"
      },
      "execution_count": null,
      "outputs": [
        {
          "output_type": "stream",
          "name": "stdout",
          "text": [
            "\n",
            "List Buah (extend) : \n",
            " ['durian', 'pisang', 'jeruk', 'semangka', 'anggur', 'nanas', 'kiwi', 'stroberi', 'lemon', 'jeruk', 'apel']\n",
            "\n",
            "List Buah (reverse) : \n",
            " ['apel', 'jeruk', 'lemon', 'stroberi', 'kiwi', 'nanas', 'anggur', 'semangka', 'jeruk', 'pisang', 'durian']\n",
            "\n",
            "List Buah (sort) : \n",
            " ['anggur', 'apel', 'durian', 'jeruk', 'jeruk', 'kiwi', 'lemon', 'nanas', 'pisang', 'semangka', 'stroberi']\n",
            "\n",
            "Buah dengan urutan terakhir (max) : \n",
            " stroberi\n",
            "\n",
            "Buah dengan urutan pertama (min) : \n",
            " anggur\n"
          ]
        }
      ]
    },
    {
      "cell_type": "code",
      "source": [
        "# Deklarasi List\n",
        "nama_buah = [\"apel\", \"mangga\", \"pisang\", \"jeruk\", \"semangka\", \"anggur\", \"nanas\", \"kiwi\", \"stroberi\", \"lemon\"]\n",
        "\n",
        "# Tampilkan list\n",
        "print(\"List Buah : \\n\", nama_buah)\n",
        "\n",
        "# Menggunakan len\n",
        "print(\"\\nJumlah Index list buah (len) : \", len(nama_buah))\n",
        "\n",
        "# Menggunakan count\n",
        "print(\"\\nJumlah Buah 'pisang' dalam List (count) : \", nama_buah.count(\"pisang\"))\n",
        "\n",
        "# Menggunakan append\n",
        "print(\"\\nMenambahkan buah baru ke dalam list (append) : \")\n",
        "nama_buah.append(\"apel hijau\")\n",
        "nama_buah.append(\"apel merah\")\n",
        "print(\"List Buah : \", nama_buah)\n",
        "\n",
        "# Menggunakan index\n",
        "print(\"\\nIndex ke 8 (index) : \", nama_buah.index(\"kiwi\"))\n",
        "\n",
        "# Menggunakan insert\n",
        "nama_buah.insert(1, \"durian\")\n",
        "print(\"\\nMenambahkan Buah ke List (Insert) : \", nama_buah)\n",
        "\n",
        "# Menggunakan pop\n",
        "nama_buah.pop()\n",
        "nama_buah.pop()\n",
        "print(\"\\nList Buah (pop) : \", nama_buah)\n",
        "\n",
        "# Menggunakan remove\n",
        "nama_buah.remove(\"mangga\")\n",
        "nama_buah.remove(\"apel\")\n",
        "print(\"\\nList Buah (remove) : \", nama_buah)\n"
      ],
      "metadata": {
        "colab": {
          "base_uri": "https://localhost:8080/"
        },
        "id": "AEo-2D6jmxxc",
        "outputId": "c2f4acbf-46a5-4734-947f-0d2cd86493c9"
      },
      "execution_count": null,
      "outputs": [
        {
          "output_type": "stream",
          "name": "stdout",
          "text": [
            "List Buah : \n",
            " ['apel', 'mangga', 'pisang', 'jeruk', 'semangka', 'anggur', 'nanas', 'kiwi', 'stroberi', 'lemon']\n",
            "\n",
            "Jumlah Index list buah (len) :  10\n",
            "\n",
            "Jumlah Buah 'pisang' dalam List (count) :  1\n",
            "\n",
            "Menambahkan buah baru ke dalam list (append) : \n",
            "List Buah :  ['apel', 'mangga', 'pisang', 'jeruk', 'semangka', 'anggur', 'nanas', 'kiwi', 'stroberi', 'lemon', 'apel hijau', 'apel merah']\n",
            "\n",
            "Index ke 8 (index) :  7\n",
            "\n",
            "Menambahkan Buah ke List (Insert) :  ['apel', 'durian', 'mangga', 'pisang', 'jeruk', 'semangka', 'anggur', 'nanas', 'kiwi', 'stroberi', 'lemon', 'apel hijau', 'apel merah']\n",
            "\n",
            "List Buah (pop) :  ['apel', 'durian', 'mangga', 'pisang', 'jeruk', 'semangka', 'anggur', 'nanas', 'kiwi', 'stroberi', 'lemon']\n",
            "\n",
            "List Buah (remove) :  ['durian', 'pisang', 'jeruk', 'semangka', 'anggur', 'nanas', 'kiwi', 'stroberi', 'lemon']\n"
          ]
        }
      ]
    }
  ],
  "metadata": {
    "colab": {
      "toc_visible": true,
      "provenance": [],
      "include_colab_link": true
    },
    "kernelspec": {
      "display_name": "Python 3",
      "name": "python3"
    }
  },
  "nbformat": 4,
  "nbformat_minor": 0
}