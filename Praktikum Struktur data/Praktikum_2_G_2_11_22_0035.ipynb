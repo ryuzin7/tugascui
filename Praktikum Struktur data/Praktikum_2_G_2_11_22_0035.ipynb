{
  "nbformat": 4,
  "nbformat_minor": 0,
  "metadata": {
    "colab": {
      "provenance": []
    },
    "kernelspec": {
      "name": "python3",
      "display_name": "Python 3"
    },
    "language_info": {
      "name": "python"
    }
  },
  "cells": [
    {
      "cell_type": "code",
      "execution_count": 2,
      "metadata": {
        "colab": {
          "base_uri": "https://localhost:8080/"
        },
        "id": "M313SPwSQtvs",
        "outputId": "c97bdd74-384b-461b-b5ea-2c204434c152"
      },
      "outputs": [
        {
          "output_type": "stream",
          "name": "stdout",
          "text": [
            "1\n",
            "3\n"
          ]
        }
      ],
      "source": [
        "# Membuat tuple\n",
        "my_tuple = (1, 2, 3, 4, 5)\n",
        "\n",
        "# Mengakses elemen-elemen dalam tuple\n",
        "print(my_tuple[0])  # Output: 1\n",
        "print(my_tuple[2])  # Output: 3\n",
        "\n",
        "# Tuple bersifat immutable (tidak bisa diubah)\n",
        "# Jika kita mencoba mengubah elemen dalam tuple, akan muncul error\n",
        "# my_tuple[0] = 6  # Ini akan menghasilkan error\n"
      ]
    },
    {
      "cell_type": "code",
      "source": [
        "# Membuat dictionary\n",
        "my_dict = {\n",
        "    \"nama\": \"John\",\n",
        "    \"umur\": 30,\n",
        "    \"kota\": \"New York\"\n",
        "}\n",
        "\n",
        "# Mengakses nilai dalam dictionary berdasarkan kuncinya\n",
        "print(my_dict[\"nama\"])  # Output: John\n",
        "print(my_dict[\"umur\"])  # Output: 30\n",
        "\n",
        "# Menambahkan elemen ke dictionary\n",
        "my_dict[\"pekerjaan\"] = \"Insinyur\"\n",
        "\n",
        "# Mengubah nilai dalam dictionary\n",
        "my_dict[\"umur\"] = 31\n",
        "\n",
        "# Menghapus elemen dari dictionary\n",
        "del my_dict[\"kota\"]\n",
        "\n",
        "# Mengecek keberadaan kunci dalam dictionary\n",
        "if \"pekerjaan\" in my_dict:\n",
        "    print(\"Pekerjaan:\", my_dict[\"pekerjaan\"])\n",
        "else:\n",
        "    print(\"Pekerjaan tidak ada dalam dictionary.\")\n",
        "\n",
        "# Mengambil semua kunci dalam dictionary\n",
        "keys = my_dict.keys()\n",
        "print(\"Kunci-kunci dalam dictionary:\", list(keys))\n"
      ],
      "metadata": {
        "colab": {
          "base_uri": "https://localhost:8080/"
        },
        "id": "auGxAXiTQ1nn",
        "outputId": "d9f911fc-d24b-49cf-9f05-9ef31cd5110f"
      },
      "execution_count": 1,
      "outputs": [
        {
          "output_type": "stream",
          "name": "stdout",
          "text": [
            "John\n",
            "30\n",
            "Pekerjaan: Insinyur\n",
            "Kunci-kunci dalam dictionary: ['nama', 'umur', 'pekerjaan']\n"
          ]
        }
      ]
    }
  ]
}