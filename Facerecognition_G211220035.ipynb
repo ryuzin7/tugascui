{
  "cells": [
    {
      "cell_type": "markdown",
      "metadata": {
        "id": "8UJv2r0SHrO4"
      },
      "source": [
        "# Face Recognition using CNN"
      ]
    },
    {
      "cell_type": "markdown",
      "metadata": {
        "id": "zeFOGB43HrPB"
      },
      "source": [
        " # Step1:\n",
        "\n"
      ]
    },
    {
      "cell_type": "code",
      "source": [
        "pip install sklearn"
      ],
      "metadata": {
        "id": "rIg7aLpyJO0w"
      },
      "execution_count": null,
      "outputs": []
    },
    {
      "cell_type": "code",
      "source": [
        "pip install pandas"
      ],
      "metadata": {
        "id": "qIdtexutJPgt"
      },
      "execution_count": null,
      "outputs": []
    },
    {
      "cell_type": "code",
      "source": [
        "pip install pandas-datareader"
      ],
      "metadata": {
        "id": "zWfnQ-4xJSoI"
      },
      "execution_count": null,
      "outputs": []
    },
    {
      "cell_type": "code",
      "source": [
        "pip install matplotlib"
      ],
      "metadata": {
        "id": "VGD75W_NJTB2"
      },
      "execution_count": null,
      "outputs": []
    },
    {
      "cell_type": "code",
      "source": [
        "pip install pillow"
      ],
      "metadata": {
        "id": "6YfwFGp9JTpm"
      },
      "execution_count": null,
      "outputs": []
    },
    {
      "cell_type": "code",
      "source": [
        "pip install request"
      ],
      "metadata": {
        "id": "yP9cHEcOJUDB"
      },
      "execution_count": null,
      "outputs": []
    },
    {
      "cell_type": "code",
      "source": [
        "pip install h5py"
      ],
      "metadata": {
        "id": "Y8ZtQv9KJneR"
      },
      "execution_count": null,
      "outputs": []
    },
    {
      "cell_type": "code",
      "source": [
        "pip install tensorflow==2.15"
      ],
      "metadata": {
        "id": "wfoILxpSJpeh"
      },
      "execution_count": null,
      "outputs": []
    },
    {
      "cell_type": "code",
      "source": [
        "pip install keras==2.2.0"
      ],
      "metadata": {
        "id": "ZYyAGKjZJqnU"
      },
      "execution_count": null,
      "outputs": []
    },
    {
      "cell_type": "code",
      "source": [
        "pip install opencv-python"
      ],
      "metadata": {
        "id": "byXnLU3mJrMp"
      },
      "execution_count": null,
      "outputs": []
    },
    {
      "cell_type": "code",
      "source": [
        "pip install opencv-contrib-python"
      ],
      "metadata": {
        "id": "lgnw13ekKByn"
      },
      "execution_count": null,
      "outputs": []
    },
    {
      "cell_type": "code",
      "execution_count": 27,
      "metadata": {
        "id": "8crEl_QWHrPE"
      },
      "outputs": [],
      "source": [
        "import keras\n",
        "from keras.models import Sequential\n",
        "from keras.layers import Conv2D, MaxPooling2D, Dense, Flatten, Dropout\n",
        "from keras.optimizers import Adam\n",
        "from keras.callbacks import TensorBoard\n",
        "\n",
        "\n",
        "import numpy as np\n",
        "import pandas as pd\n",
        "import matplotlib.pyplot as plt\n",
        "from sklearn.model_selection import train_test_split\n",
        "\n",
        "from sklearn.metrics import confusion_matrix\n",
        "from sklearn.metrics import classification_report\n",
        "from sklearn.metrics import roc_curve, auc\n",
        "from sklearn.metrics import accuracy_score\n",
        "from keras.utils import np_utils\n",
        "import itertools"
      ]
    },
    {
      "cell_type": "markdown",
      "metadata": {
        "id": "Isg1ITapHrPI"
      },
      "source": [
        "# Step2:\n",
        "Load Dataset"
      ]
    },
    {
      "cell_type": "code",
      "execution_count": 18,
      "metadata": {
        "colab": {
          "base_uri": "https://localhost:8080/"
        },
        "id": "FeYcss_bHrPK",
        "outputId": "af384d63-84d3-4f66-d5c7-7725ec8392e6"
      },
      "outputs": [
        {
          "output_type": "stream",
          "name": "stdout",
          "text": [
            "x_train : [[0.1882353  0.19215687 0.1764706  ... 0.18431373 0.18039216 0.18039216]\n",
            " [0.23529412 0.23529412 0.24313726 ... 0.1254902  0.13333334 0.13333334]\n",
            " [0.15294118 0.17254902 0.20784314 ... 0.11372549 0.10196079 0.11372549]\n",
            " ...\n",
            " [0.44705883 0.45882353 0.44705883 ... 0.38431373 0.3764706  0.38431373]\n",
            " [0.4117647  0.4117647  0.41960785 ... 0.21176471 0.18431373 0.16078432]\n",
            " [0.45490196 0.44705883 0.45882353 ... 0.37254903 0.39215687 0.39607844]]\n",
            "Y-train shape: [ 0  0  0  0  0  0  0  0  0  0  0  0  1  1  1  1  1  1  1  1  1  1  1  1\n",
            "  2  2  2  2  2  2  2  2  2  2  2  2  3  3  3  3  3  3  3  3  3  3  3  3\n",
            "  4  4  4  4  4  4  4  4  4  4  4  4  5  5  5  5  5  5  5  5  5  5  5  5\n",
            "  6  6  6  6  6  6  6  6  6  6  6  6  7  7  7  7  7  7  7  7  7  7  7  7\n",
            "  8  8  8  8  8  8  8  8  8  8  8  8  9  9  9  9  9  9  9  9  9  9  9  9\n",
            " 10 10 10 10 10 10 10 10 10 10 10 10 11 11 11 11 11 11 11 11 11 11 11 11\n",
            " 12 12 12 12 12 12 12 12 12 12 12 12 13 13 13 13 13 13 13 13 13 13 13 13\n",
            " 14 14 14 14 14 14 14 14 14 14 14 14 15 15 15 15 15 15 15 15 15 15 15 15\n",
            " 16 16 16 16 16 16 16 16 16 16 16 16 17 17 17 17 17 17 17 17 17 17 17 17\n",
            " 18 18 18 18 18 18 18 18 18 18 18 18 19 19 19 19 19 19 19 19 19 19 19 19]\n",
            "x_test shape: (160, 10304)\n"
          ]
        }
      ],
      "source": [
        "#load dataset\n",
        "data = np.load('ORL_faces.npz')\n",
        "\n",
        "# load the \"Train Images\"\n",
        "x_train = data['trainX']\n",
        "#normalize every image\n",
        "x_train = np.array(x_train,dtype='float32')/255\n",
        "\n",
        "x_test = data['testX']\n",
        "x_test = np.array(x_test,dtype='float32')/255\n",
        "\n",
        "# load the Label of Images\n",
        "y_train= data['trainY']\n",
        "y_test= data['testY']\n",
        "\n",
        "# show the train and test Data format\n",
        "print('x_train : {}'.format(x_train[:]))\n",
        "print('Y-train shape: {}'.format(y_train))\n",
        "print('x_test shape: {}'.format(x_test.shape))"
      ]
    },
    {
      "cell_type": "markdown",
      "metadata": {
        "id": "jCKzU58bHrPQ"
      },
      "source": [
        "# Step 3\n",
        "\n",
        "Split DataSet : Validation data and Train\n",
        "\n",
        "\n"
      ]
    },
    {
      "cell_type": "code",
      "execution_count": 20,
      "metadata": {
        "id": "q7LpeOOxHrPS"
      },
      "outputs": [],
      "source": [
        "x_train, x_valid, y_train, y_valid= train_test_split(\n",
        "    x_train, y_train, test_size=.05, random_state=1234,)"
      ]
    },
    {
      "cell_type": "markdown",
      "metadata": {
        "id": "QOQkR7BAHrPU"
      },
      "source": [
        "# Step 4\n",
        "\n",
        "for using the CNN, we need to change The size of images ( The size of images must be the same)"
      ]
    },
    {
      "cell_type": "code",
      "execution_count": 21,
      "metadata": {
        "colab": {
          "base_uri": "https://localhost:8080/"
        },
        "id": "b0Vodk5THrPW",
        "outputId": "4ddb6e94-0453-4741-e016-91fd0f36bdf9"
      },
      "outputs": [
        {
          "output_type": "stream",
          "name": "stdout",
          "text": [
            "x_train shape: 228\n",
            "x_test shape: (160,)\n"
          ]
        }
      ],
      "source": [
        "im_rows=112\n",
        "im_cols=92\n",
        "batch_size=512\n",
        "im_shape=(im_rows, im_cols, 1)\n",
        "\n",
        "#change the size of images\n",
        "x_train = x_train.reshape(x_train.shape[0], *im_shape)\n",
        "x_test = x_test.reshape(x_test.shape[0], *im_shape)\n",
        "x_valid = x_valid.reshape(x_valid.shape[0], *im_shape)\n",
        "\n",
        "print('x_train shape: {}'.format(y_train.shape[0]))\n",
        "print('x_test shape: {}'.format(y_test.shape))"
      ]
    },
    {
      "cell_type": "markdown",
      "metadata": {
        "id": "ETBfobTaHrPY"
      },
      "source": [
        "# Step 5\n",
        "\n",
        "\n",
        "Build CNN model:\n",
        " CNN have 3 main layer:\n",
        " * 1-Convolotional layer\n",
        " * 2- pooling layer  \n",
        " * 3- fully connected layer"
      ]
    },
    {
      "cell_type": "code",
      "execution_count": 39,
      "metadata": {
        "colab": {
          "base_uri": "https://localhost:8080/"
        },
        "id": "6RFiU4m9HrPZ",
        "outputId": "c6a483b9-173d-44df-a1d9-97f524b6883b"
      },
      "outputs": [
        {
          "output_type": "stream",
          "name": "stderr",
          "text": [
            "WARNING:absl:`lr` is deprecated in Keras optimizer, please use `learning_rate` or use the legacy optimizer, e.g.,tf.keras.optimizers.legacy.Adam.\n"
          ]
        }
      ],
      "source": [
        "\n",
        "#filters= the depth of output image or kernels\n",
        "\n",
        "cnn_model= Sequential([\n",
        "    Conv2D(filters=36, kernel_size=7, activation='relu', input_shape= im_shape),\n",
        "    MaxPooling2D(pool_size=2),\n",
        "    Conv2D(filters=54, kernel_size=5, activation='relu', input_shape= im_shape),\n",
        "    MaxPooling2D(pool_size=2),\n",
        "    Flatten(),\n",
        "    Dense(2024, activation='relu'),\n",
        "     Dropout(0.5),\n",
        "    Dense(1024, activation='relu'),\n",
        "    Dropout(0.5),\n",
        "    Dense(512, activation='relu'),\n",
        "    Dropout(0.5),\n",
        "    #20 is the number of outputs\n",
        "    Dense(20, activation='softmax')\n",
        "])\n",
        "\n",
        "cnn_model.compile(\n",
        "    loss='sparse_categorical_crossentropy',#'categorical_crossentropy',\n",
        "    optimizer=Adam(lr=0.0001),\n",
        "    metrics=['accuracy']\n",
        ")"
      ]
    },
    {
      "cell_type": "markdown",
      "metadata": {
        "id": "25cy64YsHrPa"
      },
      "source": [
        "Show the model's parameters."
      ]
    },
    {
      "cell_type": "code",
      "execution_count": 40,
      "metadata": {
        "colab": {
          "base_uri": "https://localhost:8080/"
        },
        "id": "d9ndGLqrHrPb",
        "outputId": "5f6a4eab-ac7d-4d60-b562-5a9749004ac2"
      },
      "outputs": [
        {
          "output_type": "stream",
          "name": "stdout",
          "text": [
            "Model: \"sequential\"\n",
            "_________________________________________________________________\n",
            " Layer (type)                Output Shape              Param #   \n",
            "=================================================================\n",
            " conv2d (Conv2D)             (None, 106, 86, 36)       1800      \n",
            "                                                                 \n",
            " max_pooling2d (MaxPooling2  (None, 53, 43, 36)        0         \n",
            " D)                                                              \n",
            "                                                                 \n",
            " conv2d_1 (Conv2D)           (None, 49, 39, 54)        48654     \n",
            "                                                                 \n",
            " max_pooling2d_1 (MaxPoolin  (None, 24, 19, 54)        0         \n",
            " g2D)                                                            \n",
            "                                                                 \n",
            " flatten (Flatten)           (None, 24624)             0         \n",
            "                                                                 \n",
            " dense (Dense)               (None, 2024)              49841000  \n",
            "                                                                 \n",
            " dropout (Dropout)           (None, 2024)              0         \n",
            "                                                                 \n",
            " dense_1 (Dense)             (None, 1024)              2073600   \n",
            "                                                                 \n",
            " dropout_1 (Dropout)         (None, 1024)              0         \n",
            "                                                                 \n",
            " dense_2 (Dense)             (None, 512)               524800    \n",
            "                                                                 \n",
            " dropout_2 (Dropout)         (None, 512)               0         \n",
            "                                                                 \n",
            " dense_3 (Dense)             (None, 20)                10260     \n",
            "                                                                 \n",
            "=================================================================\n",
            "Total params: 52500114 (200.27 MB)\n",
            "Trainable params: 52500114 (200.27 MB)\n",
            "Non-trainable params: 0 (0.00 Byte)\n",
            "_________________________________________________________________\n"
          ]
        }
      ],
      "source": [
        "cnn_model.summary()"
      ]
    },
    {
      "cell_type": "markdown",
      "metadata": {
        "id": "2-7RWRhUHrPb"
      },
      "source": [
        "# Step 6\n",
        "\n",
        "Train the Model\n"
      ]
    },
    {
      "cell_type": "code",
      "execution_count": 41,
      "metadata": {
        "colab": {
          "base_uri": "https://localhost:8080/"
        },
        "id": "TOORzJJHHrPc",
        "outputId": "1f21f38b-639f-41bc-f7f4-cea2229bc147"
      },
      "outputs": [
        {
          "output_type": "stream",
          "name": "stdout",
          "text": [
            "Epoch 1/250\n"
          ]
        },
        {
          "output_type": "stream",
          "name": "stderr",
          "text": [
            "WARNING:tensorflow:AutoGraph could not transform <function Model.make_train_function.<locals>.train_function at 0x791f1e3d97e0> and will run it as-is.\n",
            "Please report this to the TensorFlow team. When filing the bug, set the verbosity to 10 (on Linux, `export AUTOGRAPH_VERBOSITY=10`) and attach the full output.\n",
            "Cause: closure mismatch, requested ('self', 'step_function'), but source function had ()\n",
            "To silence this warning, decorate the function with @tf.autograph.experimental.do_not_convert\n"
          ]
        },
        {
          "output_type": "stream",
          "name": "stdout",
          "text": [
            "WARNING: AutoGraph could not transform <function Model.make_train_function.<locals>.train_function at 0x791f1e3d97e0> and will run it as-is.\n",
            "Please report this to the TensorFlow team. When filing the bug, set the verbosity to 10 (on Linux, `export AUTOGRAPH_VERBOSITY=10`) and attach the full output.\n",
            "Cause: closure mismatch, requested ('self', 'step_function'), but source function had ()\n",
            "To silence this warning, decorate the function with @tf.autograph.experimental.do_not_convert\n"
          ]
        },
        {
          "output_type": "stream",
          "name": "stderr",
          "text": [
            "WARNING:tensorflow:AutoGraph could not transform <function Model.make_test_function.<locals>.test_function at 0x791f1b272b00> and will run it as-is.\n",
            "Please report this to the TensorFlow team. When filing the bug, set the verbosity to 10 (on Linux, `export AUTOGRAPH_VERBOSITY=10`) and attach the full output.\n",
            "Cause: closure mismatch, requested ('self', 'step_function'), but source function had ()\n",
            "To silence this warning, decorate the function with @tf.autograph.experimental.do_not_convert\n"
          ]
        },
        {
          "output_type": "stream",
          "name": "stdout",
          "text": [
            "WARNING: AutoGraph could not transform <function Model.make_test_function.<locals>.test_function at 0x791f1b272b00> and will run it as-is.\n",
            "Please report this to the TensorFlow team. When filing the bug, set the verbosity to 10 (on Linux, `export AUTOGRAPH_VERBOSITY=10`) and attach the full output.\n",
            "Cause: closure mismatch, requested ('self', 'step_function'), but source function had ()\n",
            "To silence this warning, decorate the function with @tf.autograph.experimental.do_not_convert\n",
            "1/1 - 16s - loss: 3.0222 - accuracy: 0.0395 - val_loss: 3.0938 - val_accuracy: 0.0833 - 16s/epoch - 16s/step\n",
            "Epoch 2/250\n",
            "1/1 - 21s - loss: 3.7483 - accuracy: 0.0614 - val_loss: 3.0423 - val_accuracy: 0.0000e+00 - 21s/epoch - 21s/step\n",
            "Epoch 3/250\n",
            "1/1 - 19s - loss: 3.0805 - accuracy: 0.0614 - val_loss: 2.9990 - val_accuracy: 0.0000e+00 - 19s/epoch - 19s/step\n",
            "Epoch 4/250\n",
            "1/1 - 9s - loss: 3.0168 - accuracy: 0.0570 - val_loss: 2.9957 - val_accuracy: 0.0833 - 9s/epoch - 9s/step\n",
            "Epoch 5/250\n",
            "1/1 - 11s - loss: 2.9849 - accuracy: 0.0789 - val_loss: 2.9999 - val_accuracy: 0.0833 - 11s/epoch - 11s/step\n",
            "Epoch 6/250\n",
            "1/1 - 8s - loss: 2.9865 - accuracy: 0.0833 - val_loss: 3.0090 - val_accuracy: 0.0000e+00 - 8s/epoch - 8s/step\n",
            "Epoch 7/250\n",
            "1/1 - 12s - loss: 2.9769 - accuracy: 0.0570 - val_loss: 3.0350 - val_accuracy: 0.0000e+00 - 12s/epoch - 12s/step\n",
            "Epoch 8/250\n",
            "1/1 - 8s - loss: 2.9688 - accuracy: 0.1053 - val_loss: 3.0666 - val_accuracy: 0.0000e+00 - 8s/epoch - 8s/step\n",
            "Epoch 9/250\n",
            "1/1 - 11s - loss: 3.0000 - accuracy: 0.0833 - val_loss: 3.0496 - val_accuracy: 0.0000e+00 - 11s/epoch - 11s/step\n",
            "Epoch 10/250\n",
            "1/1 - 8s - loss: 2.9591 - accuracy: 0.0658 - val_loss: 3.0223 - val_accuracy: 0.0000e+00 - 8s/epoch - 8s/step\n",
            "Epoch 11/250\n",
            "1/1 - 11s - loss: 2.9571 - accuracy: 0.0789 - val_loss: 3.0028 - val_accuracy: 0.0000e+00 - 11s/epoch - 11s/step\n",
            "Epoch 12/250\n",
            "1/1 - 8s - loss: 2.9355 - accuracy: 0.1140 - val_loss: 2.9945 - val_accuracy: 0.0833 - 8s/epoch - 8s/step\n",
            "Epoch 13/250\n",
            "1/1 - 12s - loss: 2.9254 - accuracy: 0.1491 - val_loss: 2.9808 - val_accuracy: 0.0000e+00 - 12s/epoch - 12s/step\n",
            "Epoch 14/250\n",
            "1/1 - 8s - loss: 2.9305 - accuracy: 0.1184 - val_loss: 2.9420 - val_accuracy: 0.0000e+00 - 8s/epoch - 8s/step\n",
            "Epoch 15/250\n",
            "1/1 - 12s - loss: 2.8476 - accuracy: 0.2105 - val_loss: 2.9183 - val_accuracy: 0.0000e+00 - 12s/epoch - 12s/step\n",
            "Epoch 16/250\n",
            "1/1 - 8s - loss: 2.8110 - accuracy: 0.1974 - val_loss: 2.8792 - val_accuracy: 0.0000e+00 - 8s/epoch - 8s/step\n",
            "Epoch 17/250\n",
            "1/1 - 11s - loss: 2.7514 - accuracy: 0.1886 - val_loss: 2.7892 - val_accuracy: 0.0000e+00 - 11s/epoch - 11s/step\n",
            "Epoch 18/250\n",
            "1/1 - 11s - loss: 2.6197 - accuracy: 0.2807 - val_loss: 2.6959 - val_accuracy: 0.0000e+00 - 11s/epoch - 11s/step\n",
            "Epoch 19/250\n",
            "1/1 - 10s - loss: 2.5871 - accuracy: 0.2588 - val_loss: 2.6024 - val_accuracy: 0.0000e+00 - 10s/epoch - 10s/step\n",
            "Epoch 20/250\n",
            "1/1 - 10s - loss: 2.4293 - accuracy: 0.2939 - val_loss: 2.3372 - val_accuracy: 0.3333 - 10s/epoch - 10s/step\n",
            "Epoch 21/250\n",
            "1/1 - 11s - loss: 2.2644 - accuracy: 0.3640 - val_loss: 2.0757 - val_accuracy: 0.4167 - 11s/epoch - 11s/step\n",
            "Epoch 22/250\n",
            "1/1 - 10s - loss: 2.2403 - accuracy: 0.2982 - val_loss: 2.0034 - val_accuracy: 0.4167 - 10s/epoch - 10s/step\n",
            "Epoch 23/250\n",
            "1/1 - 10s - loss: 1.9285 - accuracy: 0.4386 - val_loss: 1.9313 - val_accuracy: 0.2500 - 10s/epoch - 10s/step\n",
            "Epoch 24/250\n",
            "1/1 - 10s - loss: 1.7882 - accuracy: 0.4298 - val_loss: 1.6055 - val_accuracy: 0.6667 - 10s/epoch - 10s/step\n",
            "Epoch 25/250\n",
            "1/1 - 9s - loss: 1.7035 - accuracy: 0.4825 - val_loss: 1.3692 - val_accuracy: 0.7500 - 9s/epoch - 9s/step\n",
            "Epoch 26/250\n",
            "1/1 - 11s - loss: 1.5628 - accuracy: 0.5307 - val_loss: 1.1980 - val_accuracy: 0.8333 - 11s/epoch - 11s/step\n",
            "Epoch 27/250\n",
            "1/1 - 9s - loss: 1.3427 - accuracy: 0.5570 - val_loss: 1.0707 - val_accuracy: 0.6667 - 9s/epoch - 9s/step\n",
            "Epoch 28/250\n",
            "1/1 - 11s - loss: 1.4911 - accuracy: 0.5088 - val_loss: 1.0776 - val_accuracy: 0.8333 - 11s/epoch - 11s/step\n",
            "Epoch 29/250\n",
            "1/1 - 8s - loss: 1.1594 - accuracy: 0.6404 - val_loss: 1.0570 - val_accuracy: 0.8333 - 8s/epoch - 8s/step\n",
            "Epoch 30/250\n",
            "1/1 - 11s - loss: 0.9672 - accuracy: 0.7544 - val_loss: 0.8114 - val_accuracy: 0.9167 - 11s/epoch - 11s/step\n",
            "Epoch 31/250\n",
            "1/1 - 8s - loss: 0.7939 - accuracy: 0.7675 - val_loss: 0.6186 - val_accuracy: 0.9167 - 8s/epoch - 8s/step\n",
            "Epoch 32/250\n",
            "1/1 - 11s - loss: 0.7635 - accuracy: 0.7544 - val_loss: 0.3977 - val_accuracy: 0.9167 - 11s/epoch - 11s/step\n",
            "Epoch 33/250\n",
            "1/1 - 8s - loss: 0.6737 - accuracy: 0.7412 - val_loss: 0.2527 - val_accuracy: 1.0000 - 8s/epoch - 8s/step\n",
            "Epoch 34/250\n",
            "1/1 - 11s - loss: 0.5570 - accuracy: 0.8070 - val_loss: 0.1824 - val_accuracy: 1.0000 - 11s/epoch - 11s/step\n",
            "Epoch 35/250\n",
            "1/1 - 8s - loss: 0.4021 - accuracy: 0.8684 - val_loss: 0.1728 - val_accuracy: 0.9167 - 8s/epoch - 8s/step\n",
            "Epoch 36/250\n",
            "1/1 - 15s - loss: 0.3826 - accuracy: 0.8640 - val_loss: 0.2000 - val_accuracy: 0.9167 - 15s/epoch - 15s/step\n",
            "Epoch 37/250\n",
            "1/1 - 8s - loss: 0.3412 - accuracy: 0.8947 - val_loss: 0.0919 - val_accuracy: 1.0000 - 8s/epoch - 8s/step\n",
            "Epoch 38/250\n",
            "1/1 - 11s - loss: 0.3397 - accuracy: 0.8947 - val_loss: 0.1083 - val_accuracy: 1.0000 - 11s/epoch - 11s/step\n",
            "Epoch 39/250\n",
            "1/1 - 8s - loss: 0.2260 - accuracy: 0.9430 - val_loss: 0.1155 - val_accuracy: 1.0000 - 8s/epoch - 8s/step\n",
            "Epoch 40/250\n",
            "1/1 - 11s - loss: 0.2040 - accuracy: 0.9298 - val_loss: 0.0421 - val_accuracy: 1.0000 - 11s/epoch - 11s/step\n",
            "Epoch 41/250\n",
            "1/1 - 8s - loss: 0.1074 - accuracy: 0.9825 - val_loss: 0.0440 - val_accuracy: 1.0000 - 8s/epoch - 8s/step\n",
            "Epoch 42/250\n",
            "1/1 - 11s - loss: 0.1370 - accuracy: 0.9693 - val_loss: 0.0845 - val_accuracy: 1.0000 - 11s/epoch - 11s/step\n",
            "Epoch 43/250\n",
            "1/1 - 8s - loss: 0.1039 - accuracy: 0.9825 - val_loss: 0.0812 - val_accuracy: 1.0000 - 8s/epoch - 8s/step\n",
            "Epoch 44/250\n",
            "1/1 - 11s - loss: 0.1264 - accuracy: 0.9693 - val_loss: 0.0100 - val_accuracy: 1.0000 - 11s/epoch - 11s/step\n",
            "Epoch 45/250\n",
            "1/1 - 8s - loss: 0.0869 - accuracy: 0.9825 - val_loss: 0.0065 - val_accuracy: 1.0000 - 8s/epoch - 8s/step\n",
            "Epoch 46/250\n",
            "1/1 - 11s - loss: 0.0592 - accuracy: 0.9956 - val_loss: 0.0085 - val_accuracy: 1.0000 - 11s/epoch - 11s/step\n",
            "Epoch 47/250\n",
            "1/1 - 8s - loss: 0.0373 - accuracy: 0.9912 - val_loss: 0.0121 - val_accuracy: 1.0000 - 8s/epoch - 8s/step\n",
            "Epoch 48/250\n",
            "1/1 - 12s - loss: 0.0901 - accuracy: 0.9693 - val_loss: 0.0044 - val_accuracy: 1.0000 - 12s/epoch - 12s/step\n",
            "Epoch 49/250\n",
            "1/1 - 8s - loss: 0.0328 - accuracy: 0.9912 - val_loss: 0.0020 - val_accuracy: 1.0000 - 8s/epoch - 8s/step\n",
            "Epoch 50/250\n",
            "1/1 - 12s - loss: 0.0340 - accuracy: 0.9956 - val_loss: 0.0015 - val_accuracy: 1.0000 - 12s/epoch - 12s/step\n",
            "Epoch 51/250\n",
            "1/1 - 8s - loss: 0.0348 - accuracy: 0.9868 - val_loss: 0.0025 - val_accuracy: 1.0000 - 8s/epoch - 8s/step\n",
            "Epoch 52/250\n",
            "1/1 - 11s - loss: 0.0357 - accuracy: 0.9825 - val_loss: 0.0054 - val_accuracy: 1.0000 - 11s/epoch - 11s/step\n",
            "Epoch 53/250\n",
            "1/1 - 9s - loss: 0.0209 - accuracy: 0.9956 - val_loss: 0.0052 - val_accuracy: 1.0000 - 9s/epoch - 9s/step\n",
            "Epoch 54/250\n",
            "1/1 - 11s - loss: 0.0283 - accuracy: 0.9912 - val_loss: 0.0021 - val_accuracy: 1.0000 - 11s/epoch - 11s/step\n",
            "Epoch 55/250\n",
            "1/1 - 9s - loss: 0.0203 - accuracy: 0.9956 - val_loss: 0.0010 - val_accuracy: 1.0000 - 9s/epoch - 9s/step\n",
            "Epoch 56/250\n",
            "1/1 - 11s - loss: 0.0183 - accuracy: 0.9956 - val_loss: 5.9035e-04 - val_accuracy: 1.0000 - 11s/epoch - 11s/step\n",
            "Epoch 57/250\n",
            "1/1 - 9s - loss: 0.0116 - accuracy: 1.0000 - val_loss: 3.6795e-04 - val_accuracy: 1.0000 - 9s/epoch - 9s/step\n",
            "Epoch 58/250\n",
            "1/1 - 11s - loss: 0.0171 - accuracy: 0.9912 - val_loss: 2.2262e-04 - val_accuracy: 1.0000 - 11s/epoch - 11s/step\n",
            "Epoch 59/250\n",
            "1/1 - 9s - loss: 0.0238 - accuracy: 0.9956 - val_loss: 2.2585e-04 - val_accuracy: 1.0000 - 9s/epoch - 9s/step\n",
            "Epoch 60/250\n",
            "1/1 - 11s - loss: 0.0128 - accuracy: 0.9956 - val_loss: 4.2484e-04 - val_accuracy: 1.0000 - 11s/epoch - 11s/step\n",
            "Epoch 61/250\n",
            "1/1 - 22s - loss: 0.0192 - accuracy: 0.9912 - val_loss: 6.3572e-04 - val_accuracy: 1.0000 - 22s/epoch - 22s/step\n",
            "Epoch 62/250\n",
            "1/1 - 8s - loss: 0.0117 - accuracy: 1.0000 - val_loss: 9.3631e-04 - val_accuracy: 1.0000 - 8s/epoch - 8s/step\n",
            "Epoch 63/250\n",
            "1/1 - 12s - loss: 0.0545 - accuracy: 0.9781 - val_loss: 3.7403e-04 - val_accuracy: 1.0000 - 12s/epoch - 12s/step\n",
            "Epoch 64/250\n",
            "1/1 - 8s - loss: 0.0104 - accuracy: 0.9956 - val_loss: 1.9159e-04 - val_accuracy: 1.0000 - 8s/epoch - 8s/step\n",
            "Epoch 65/250\n",
            "1/1 - 12s - loss: 0.0151 - accuracy: 0.9956 - val_loss: 1.2509e-04 - val_accuracy: 1.0000 - 12s/epoch - 12s/step\n",
            "Epoch 66/250\n",
            "1/1 - 9s - loss: 0.0034 - accuracy: 1.0000 - val_loss: 9.9356e-05 - val_accuracy: 1.0000 - 9s/epoch - 9s/step\n",
            "Epoch 67/250\n",
            "1/1 - 11s - loss: 0.0203 - accuracy: 0.9912 - val_loss: 9.6709e-05 - val_accuracy: 1.0000 - 11s/epoch - 11s/step\n",
            "Epoch 68/250\n",
            "1/1 - 10s - loss: 0.0209 - accuracy: 0.9912 - val_loss: 1.2484e-04 - val_accuracy: 1.0000 - 10s/epoch - 10s/step\n",
            "Epoch 69/250\n",
            "1/1 - 14s - loss: 0.0081 - accuracy: 1.0000 - val_loss: 1.6288e-04 - val_accuracy: 1.0000 - 14s/epoch - 14s/step\n",
            "Epoch 70/250\n",
            "1/1 - 10s - loss: 0.0161 - accuracy: 0.9956 - val_loss: 2.3323e-04 - val_accuracy: 1.0000 - 10s/epoch - 10s/step\n",
            "Epoch 71/250\n",
            "1/1 - 11s - loss: 0.0046 - accuracy: 1.0000 - val_loss: 3.2104e-04 - val_accuracy: 1.0000 - 11s/epoch - 11s/step\n",
            "Epoch 72/250\n",
            "1/1 - 10s - loss: 0.0094 - accuracy: 0.9956 - val_loss: 3.3023e-04 - val_accuracy: 1.0000 - 10s/epoch - 10s/step\n",
            "Epoch 73/250\n",
            "1/1 - 10s - loss: 0.0084 - accuracy: 1.0000 - val_loss: 3.1940e-04 - val_accuracy: 1.0000 - 10s/epoch - 10s/step\n",
            "Epoch 74/250\n",
            "1/1 - 11s - loss: 0.0128 - accuracy: 0.9956 - val_loss: 3.8521e-04 - val_accuracy: 1.0000 - 11s/epoch - 11s/step\n",
            "Epoch 75/250\n",
            "1/1 - 9s - loss: 0.0030 - accuracy: 1.0000 - val_loss: 4.5922e-04 - val_accuracy: 1.0000 - 9s/epoch - 9s/step\n",
            "Epoch 76/250\n",
            "1/1 - 12s - loss: 0.0074 - accuracy: 0.9956 - val_loss: 6.0945e-04 - val_accuracy: 1.0000 - 12s/epoch - 12s/step\n",
            "Epoch 77/250\n",
            "1/1 - 8s - loss: 0.0101 - accuracy: 0.9956 - val_loss: 6.1709e-04 - val_accuracy: 1.0000 - 8s/epoch - 8s/step\n",
            "Epoch 78/250\n",
            "1/1 - 12s - loss: 0.0034 - accuracy: 1.0000 - val_loss: 5.1319e-04 - val_accuracy: 1.0000 - 12s/epoch - 12s/step\n",
            "Epoch 79/250\n",
            "1/1 - 8s - loss: 0.0135 - accuracy: 0.9956 - val_loss: 2.9432e-04 - val_accuracy: 1.0000 - 8s/epoch - 8s/step\n",
            "Epoch 80/250\n",
            "1/1 - 12s - loss: 0.0028 - accuracy: 1.0000 - val_loss: 1.7307e-04 - val_accuracy: 1.0000 - 12s/epoch - 12s/step\n",
            "Epoch 81/250\n",
            "1/1 - 8s - loss: 0.0195 - accuracy: 0.9956 - val_loss: 1.1651e-04 - val_accuracy: 1.0000 - 8s/epoch - 8s/step\n",
            "Epoch 82/250\n",
            "1/1 - 12s - loss: 0.0029 - accuracy: 1.0000 - val_loss: 8.4833e-05 - val_accuracy: 1.0000 - 12s/epoch - 12s/step\n",
            "Epoch 83/250\n",
            "1/1 - 9s - loss: 0.0018 - accuracy: 1.0000 - val_loss: 7.4972e-05 - val_accuracy: 1.0000 - 9s/epoch - 9s/step\n",
            "Epoch 84/250\n",
            "1/1 - 11s - loss: 0.0016 - accuracy: 1.0000 - val_loss: 7.0016e-05 - val_accuracy: 1.0000 - 11s/epoch - 11s/step\n",
            "Epoch 85/250\n",
            "1/1 - 9s - loss: 0.0019 - accuracy: 1.0000 - val_loss: 7.2110e-05 - val_accuracy: 1.0000 - 9s/epoch - 9s/step\n",
            "Epoch 86/250\n",
            "1/1 - 11s - loss: 0.0030 - accuracy: 1.0000 - val_loss: 6.9280e-05 - val_accuracy: 1.0000 - 11s/epoch - 11s/step\n",
            "Epoch 87/250\n",
            "1/1 - 10s - loss: 0.0019 - accuracy: 1.0000 - val_loss: 7.5514e-05 - val_accuracy: 1.0000 - 10s/epoch - 10s/step\n",
            "Epoch 88/250\n",
            "1/1 - 11s - loss: 0.0085 - accuracy: 0.9956 - val_loss: 5.8954e-05 - val_accuracy: 1.0000 - 11s/epoch - 11s/step\n",
            "Epoch 89/250\n",
            "1/1 - 10s - loss: 0.0023 - accuracy: 1.0000 - val_loss: 4.8836e-05 - val_accuracy: 1.0000 - 10s/epoch - 10s/step\n",
            "Epoch 90/250\n",
            "1/1 - 10s - loss: 0.0040 - accuracy: 1.0000 - val_loss: 5.1338e-05 - val_accuracy: 1.0000 - 10s/epoch - 10s/step\n",
            "Epoch 91/250\n",
            "1/1 - 11s - loss: 0.0110 - accuracy: 0.9956 - val_loss: 4.8935e-05 - val_accuracy: 1.0000 - 11s/epoch - 11s/step\n",
            "Epoch 92/250\n",
            "1/1 - 9s - loss: 0.0015 - accuracy: 1.0000 - val_loss: 4.7893e-05 - val_accuracy: 1.0000 - 9s/epoch - 9s/step\n",
            "Epoch 93/250\n",
            "1/1 - 12s - loss: 0.0017 - accuracy: 1.0000 - val_loss: 4.4537e-05 - val_accuracy: 1.0000 - 12s/epoch - 12s/step\n",
            "Epoch 94/250\n",
            "1/1 - 8s - loss: 0.0028 - accuracy: 1.0000 - val_loss: 4.8124e-05 - val_accuracy: 1.0000 - 8s/epoch - 8s/step\n",
            "Epoch 95/250\n",
            "1/1 - 11s - loss: 0.0038 - accuracy: 1.0000 - val_loss: 3.8182e-05 - val_accuracy: 1.0000 - 11s/epoch - 11s/step\n",
            "Epoch 96/250\n",
            "1/1 - 8s - loss: 0.0024 - accuracy: 1.0000 - val_loss: 3.4755e-05 - val_accuracy: 1.0000 - 8s/epoch - 8s/step\n",
            "Epoch 97/250\n",
            "1/1 - 11s - loss: 0.0014 - accuracy: 1.0000 - val_loss: 2.7852e-05 - val_accuracy: 1.0000 - 11s/epoch - 11s/step\n",
            "Epoch 98/250\n",
            "1/1 - 8s - loss: 0.0015 - accuracy: 1.0000 - val_loss: 2.1863e-05 - val_accuracy: 1.0000 - 8s/epoch - 8s/step\n",
            "Epoch 99/250\n",
            "1/1 - 12s - loss: 8.2459e-04 - accuracy: 1.0000 - val_loss: 1.7692e-05 - val_accuracy: 1.0000 - 12s/epoch - 12s/step\n",
            "Epoch 100/250\n",
            "1/1 - 9s - loss: 0.0010 - accuracy: 1.0000 - val_loss: 1.4602e-05 - val_accuracy: 1.0000 - 9s/epoch - 9s/step\n",
            "Epoch 101/250\n",
            "1/1 - 12s - loss: 0.0019 - accuracy: 1.0000 - val_loss: 1.3122e-05 - val_accuracy: 1.0000 - 12s/epoch - 12s/step\n",
            "Epoch 102/250\n",
            "1/1 - 12s - loss: 0.0210 - accuracy: 0.9956 - val_loss: 1.9062e-05 - val_accuracy: 1.0000 - 12s/epoch - 12s/step\n",
            "Epoch 103/250\n",
            "1/1 - 12s - loss: 0.0040 - accuracy: 0.9956 - val_loss: 3.9173e-05 - val_accuracy: 1.0000 - 12s/epoch - 12s/step\n",
            "Epoch 104/250\n",
            "1/1 - 9s - loss: 0.0039 - accuracy: 0.9956 - val_loss: 6.9616e-05 - val_accuracy: 1.0000 - 9s/epoch - 9s/step\n",
            "Epoch 105/250\n",
            "1/1 - 11s - loss: 3.5016e-04 - accuracy: 1.0000 - val_loss: 1.1380e-04 - val_accuracy: 1.0000 - 11s/epoch - 11s/step\n",
            "Epoch 106/250\n",
            "1/1 - 10s - loss: 0.0011 - accuracy: 1.0000 - val_loss: 1.6711e-04 - val_accuracy: 1.0000 - 10s/epoch - 10s/step\n",
            "Epoch 107/250\n",
            "1/1 - 10s - loss: 0.0016 - accuracy: 1.0000 - val_loss: 2.3544e-04 - val_accuracy: 1.0000 - 10s/epoch - 10s/step\n",
            "Epoch 108/250\n",
            "1/1 - 11s - loss: 0.0015 - accuracy: 1.0000 - val_loss: 2.8636e-04 - val_accuracy: 1.0000 - 11s/epoch - 11s/step\n",
            "Epoch 109/250\n",
            "1/1 - 10s - loss: 0.0021 - accuracy: 1.0000 - val_loss: 3.2090e-04 - val_accuracy: 1.0000 - 10s/epoch - 10s/step\n",
            "Epoch 110/250\n",
            "1/1 - 11s - loss: 0.0015 - accuracy: 1.0000 - val_loss: 3.4438e-04 - val_accuracy: 1.0000 - 11s/epoch - 11s/step\n",
            "Epoch 111/250\n",
            "1/1 - 9s - loss: 0.0023 - accuracy: 1.0000 - val_loss: 3.1960e-04 - val_accuracy: 1.0000 - 9s/epoch - 9s/step\n",
            "Epoch 112/250\n",
            "1/1 - 12s - loss: 0.0018 - accuracy: 1.0000 - val_loss: 2.6193e-04 - val_accuracy: 1.0000 - 12s/epoch - 12s/step\n",
            "Epoch 113/250\n",
            "1/1 - 8s - loss: 0.0030 - accuracy: 1.0000 - val_loss: 2.0218e-04 - val_accuracy: 1.0000 - 8s/epoch - 8s/step\n",
            "Epoch 114/250\n",
            "1/1 - 12s - loss: 0.0053 - accuracy: 0.9956 - val_loss: 1.6856e-04 - val_accuracy: 1.0000 - 12s/epoch - 12s/step\n",
            "Epoch 115/250\n",
            "1/1 - 8s - loss: 0.0022 - accuracy: 1.0000 - val_loss: 1.3507e-04 - val_accuracy: 1.0000 - 8s/epoch - 8s/step\n",
            "Epoch 116/250\n",
            "1/1 - 12s - loss: 0.0037 - accuracy: 1.0000 - val_loss: 8.9804e-05 - val_accuracy: 1.0000 - 12s/epoch - 12s/step\n",
            "Epoch 117/250\n",
            "1/1 - 9s - loss: 0.0014 - accuracy: 1.0000 - val_loss: 6.0120e-05 - val_accuracy: 1.0000 - 9s/epoch - 9s/step\n",
            "Epoch 118/250\n",
            "1/1 - 12s - loss: 0.0027 - accuracy: 1.0000 - val_loss: 5.8780e-05 - val_accuracy: 1.0000 - 12s/epoch - 12s/step\n",
            "Epoch 119/250\n",
            "1/1 - 10s - loss: 0.0011 - accuracy: 1.0000 - val_loss: 5.9008e-05 - val_accuracy: 1.0000 - 10s/epoch - 10s/step\n",
            "Epoch 120/250\n",
            "1/1 - 17s - loss: 0.0035 - accuracy: 1.0000 - val_loss: 5.7548e-05 - val_accuracy: 1.0000 - 17s/epoch - 17s/step\n",
            "Epoch 121/250\n",
            "1/1 - 11s - loss: 0.0011 - accuracy: 1.0000 - val_loss: 5.4102e-05 - val_accuracy: 1.0000 - 11s/epoch - 11s/step\n",
            "Epoch 122/250\n",
            "1/1 - 9s - loss: 0.0020 - accuracy: 1.0000 - val_loss: 5.5431e-05 - val_accuracy: 1.0000 - 9s/epoch - 9s/step\n",
            "Epoch 123/250\n",
            "1/1 - 12s - loss: 0.0038 - accuracy: 1.0000 - val_loss: 6.6470e-05 - val_accuracy: 1.0000 - 12s/epoch - 12s/step\n",
            "Epoch 124/250\n",
            "1/1 - 8s - loss: 0.0014 - accuracy: 1.0000 - val_loss: 7.7536e-05 - val_accuracy: 1.0000 - 8s/epoch - 8s/step\n",
            "Epoch 125/250\n",
            "1/1 - 12s - loss: 7.4609e-04 - accuracy: 1.0000 - val_loss: 9.2084e-05 - val_accuracy: 1.0000 - 12s/epoch - 12s/step\n",
            "Epoch 126/250\n",
            "1/1 - 8s - loss: 0.0022 - accuracy: 1.0000 - val_loss: 1.0326e-04 - val_accuracy: 1.0000 - 8s/epoch - 8s/step\n",
            "Epoch 127/250\n",
            "1/1 - 12s - loss: 7.8706e-04 - accuracy: 1.0000 - val_loss: 1.1368e-04 - val_accuracy: 1.0000 - 12s/epoch - 12s/step\n",
            "Epoch 128/250\n",
            "1/1 - 9s - loss: 2.0622e-04 - accuracy: 1.0000 - val_loss: 1.2162e-04 - val_accuracy: 1.0000 - 9s/epoch - 9s/step\n",
            "Epoch 129/250\n",
            "1/1 - 12s - loss: 1.6600e-04 - accuracy: 1.0000 - val_loss: 1.2726e-04 - val_accuracy: 1.0000 - 12s/epoch - 12s/step\n",
            "Epoch 130/250\n",
            "1/1 - 9s - loss: 0.0013 - accuracy: 1.0000 - val_loss: 1.3043e-04 - val_accuracy: 1.0000 - 9s/epoch - 9s/step\n",
            "Epoch 131/250\n",
            "1/1 - 11s - loss: 1.8024e-04 - accuracy: 1.0000 - val_loss: 1.2934e-04 - val_accuracy: 1.0000 - 11s/epoch - 11s/step\n",
            "Epoch 132/250\n",
            "1/1 - 10s - loss: 0.0021 - accuracy: 1.0000 - val_loss: 1.1086e-04 - val_accuracy: 1.0000 - 10s/epoch - 10s/step\n",
            "Epoch 133/250\n",
            "1/1 - 10s - loss: 0.0047 - accuracy: 0.9956 - val_loss: 7.7283e-05 - val_accuracy: 1.0000 - 10s/epoch - 10s/step\n",
            "Epoch 134/250\n",
            "1/1 - 11s - loss: 0.0033 - accuracy: 1.0000 - val_loss: 4.8376e-05 - val_accuracy: 1.0000 - 11s/epoch - 11s/step\n",
            "Epoch 135/250\n",
            "1/1 - 13s - loss: 3.5485e-04 - accuracy: 1.0000 - val_loss: 2.8715e-05 - val_accuracy: 1.0000 - 13s/epoch - 13s/step\n",
            "Epoch 136/250\n",
            "1/1 - 10s - loss: 3.6954e-04 - accuracy: 1.0000 - val_loss: 1.7850e-05 - val_accuracy: 1.0000 - 10s/epoch - 10s/step\n",
            "Epoch 137/250\n",
            "1/1 - 10s - loss: 9.7381e-04 - accuracy: 1.0000 - val_loss: 1.1970e-05 - val_accuracy: 1.0000 - 10s/epoch - 10s/step\n",
            "Epoch 138/250\n",
            "1/1 - 11s - loss: 0.0031 - accuracy: 1.0000 - val_loss: 8.6125e-06 - val_accuracy: 1.0000 - 11s/epoch - 11s/step\n",
            "Epoch 139/250\n",
            "1/1 - 9s - loss: 1.8059e-04 - accuracy: 1.0000 - val_loss: 6.4272e-06 - val_accuracy: 1.0000 - 9s/epoch - 9s/step\n",
            "Epoch 140/250\n",
            "1/1 - 12s - loss: 3.7358e-04 - accuracy: 1.0000 - val_loss: 5.0563e-06 - val_accuracy: 1.0000 - 12s/epoch - 12s/step\n",
            "Epoch 141/250\n",
            "1/1 - 8s - loss: 9.7645e-04 - accuracy: 1.0000 - val_loss: 3.9835e-06 - val_accuracy: 1.0000 - 8s/epoch - 8s/step\n",
            "Epoch 142/250\n",
            "1/1 - 11s - loss: 5.8370e-04 - accuracy: 1.0000 - val_loss: 3.3080e-06 - val_accuracy: 1.0000 - 11s/epoch - 11s/step\n",
            "Epoch 143/250\n",
            "1/1 - 8s - loss: 0.0012 - accuracy: 1.0000 - val_loss: 3.0895e-06 - val_accuracy: 1.0000 - 8s/epoch - 8s/step\n",
            "Epoch 144/250\n",
            "1/1 - 12s - loss: 4.8677e-04 - accuracy: 1.0000 - val_loss: 3.0199e-06 - val_accuracy: 1.0000 - 12s/epoch - 12s/step\n",
            "Epoch 145/250\n",
            "1/1 - 9s - loss: 3.4251e-04 - accuracy: 1.0000 - val_loss: 3.1292e-06 - val_accuracy: 1.0000 - 9s/epoch - 9s/step\n",
            "Epoch 146/250\n",
            "1/1 - 12s - loss: 6.0934e-04 - accuracy: 1.0000 - val_loss: 3.4173e-06 - val_accuracy: 1.0000 - 12s/epoch - 12s/step\n",
            "Epoch 147/250\n",
            "1/1 - 9s - loss: 1.6297e-04 - accuracy: 1.0000 - val_loss: 3.8345e-06 - val_accuracy: 1.0000 - 9s/epoch - 9s/step\n",
            "Epoch 148/250\n",
            "1/1 - 11s - loss: 5.4225e-04 - accuracy: 1.0000 - val_loss: 4.5398e-06 - val_accuracy: 1.0000 - 11s/epoch - 11s/step\n",
            "Epoch 149/250\n",
            "1/1 - 10s - loss: 1.5443e-04 - accuracy: 1.0000 - val_loss: 5.5332e-06 - val_accuracy: 1.0000 - 10s/epoch - 10s/step\n",
            "Epoch 150/250\n",
            "1/1 - 11s - loss: 5.1761e-04 - accuracy: 1.0000 - val_loss: 7.1722e-06 - val_accuracy: 1.0000 - 11s/epoch - 11s/step\n",
            "Epoch 151/250\n",
            "1/1 - 10s - loss: 2.8788e-04 - accuracy: 1.0000 - val_loss: 9.1092e-06 - val_accuracy: 1.0000 - 10s/epoch - 10s/step\n",
            "Epoch 152/250\n",
            "1/1 - 10s - loss: 4.9565e-04 - accuracy: 1.0000 - val_loss: 1.1046e-05 - val_accuracy: 1.0000 - 10s/epoch - 10s/step\n",
            "Epoch 153/250\n",
            "1/1 - 11s - loss: 3.5699e-04 - accuracy: 1.0000 - val_loss: 1.0401e-05 - val_accuracy: 1.0000 - 11s/epoch - 11s/step\n",
            "Epoch 154/250\n",
            "1/1 - 9s - loss: 5.9394e-04 - accuracy: 1.0000 - val_loss: 8.5132e-06 - val_accuracy: 1.0000 - 9s/epoch - 9s/step\n",
            "Epoch 155/250\n",
            "1/1 - 12s - loss: 6.1635e-04 - accuracy: 1.0000 - val_loss: 7.0629e-06 - val_accuracy: 1.0000 - 12s/epoch - 12s/step\n",
            "Epoch 156/250\n",
            "1/1 - 8s - loss: 5.9542e-05 - accuracy: 1.0000 - val_loss: 6.0596e-06 - val_accuracy: 1.0000 - 8s/epoch - 8s/step\n",
            "Epoch 157/250\n",
            "1/1 - 12s - loss: 1.2944e-04 - accuracy: 1.0000 - val_loss: 5.2252e-06 - val_accuracy: 1.0000 - 12s/epoch - 12s/step\n",
            "Epoch 158/250\n",
            "1/1 - 8s - loss: 1.2245e-04 - accuracy: 1.0000 - val_loss: 4.5100e-06 - val_accuracy: 1.0000 - 8s/epoch - 8s/step\n",
            "Epoch 159/250\n",
            "1/1 - 12s - loss: 3.0141e-04 - accuracy: 1.0000 - val_loss: 4.1027e-06 - val_accuracy: 1.0000 - 12s/epoch - 12s/step\n",
            "Epoch 160/250\n",
            "1/1 - 9s - loss: 2.2635e-04 - accuracy: 1.0000 - val_loss: 3.7749e-06 - val_accuracy: 1.0000 - 9s/epoch - 9s/step\n",
            "Epoch 161/250\n",
            "1/1 - 11s - loss: 2.8401e-04 - accuracy: 1.0000 - val_loss: 3.4272e-06 - val_accuracy: 1.0000 - 11s/epoch - 11s/step\n",
            "Epoch 162/250\n",
            "1/1 - 10s - loss: 5.2278e-04 - accuracy: 1.0000 - val_loss: 3.1689e-06 - val_accuracy: 1.0000 - 10s/epoch - 10s/step\n",
            "Epoch 163/250\n",
            "1/1 - 11s - loss: 3.8389e-04 - accuracy: 1.0000 - val_loss: 2.9007e-06 - val_accuracy: 1.0000 - 11s/epoch - 11s/step\n",
            "Epoch 164/250\n",
            "1/1 - 10s - loss: 7.5870e-04 - accuracy: 1.0000 - val_loss: 2.2848e-06 - val_accuracy: 1.0000 - 10s/epoch - 10s/step\n",
            "Epoch 165/250\n",
            "1/1 - 10s - loss: 2.3588e-04 - accuracy: 1.0000 - val_loss: 1.7484e-06 - val_accuracy: 1.0000 - 10s/epoch - 10s/step\n",
            "Epoch 166/250\n",
            "1/1 - 11s - loss: 0.0010 - accuracy: 1.0000 - val_loss: 9.7354e-07 - val_accuracy: 1.0000 - 11s/epoch - 11s/step\n",
            "Epoch 167/250\n",
            "1/1 - 9s - loss: 3.5787e-05 - accuracy: 1.0000 - val_loss: 6.5565e-07 - val_accuracy: 1.0000 - 9s/epoch - 9s/step\n",
            "Epoch 168/250\n",
            "1/1 - 14s - loss: 2.2522e-04 - accuracy: 1.0000 - val_loss: 4.6690e-07 - val_accuracy: 1.0000 - 14s/epoch - 14s/step\n",
            "Epoch 169/250\n",
            "1/1 - 9s - loss: 2.4389e-05 - accuracy: 1.0000 - val_loss: 3.7750e-07 - val_accuracy: 1.0000 - 9s/epoch - 9s/step\n",
            "Epoch 170/250\n",
            "1/1 - 12s - loss: 0.0015 - accuracy: 1.0000 - val_loss: 2.9802e-07 - val_accuracy: 1.0000 - 12s/epoch - 12s/step\n",
            "Epoch 171/250\n",
            "1/1 - 8s - loss: 2.5593e-04 - accuracy: 1.0000 - val_loss: 2.3842e-07 - val_accuracy: 1.0000 - 8s/epoch - 8s/step\n",
            "Epoch 172/250\n",
            "1/1 - 11s - loss: 1.4696e-04 - accuracy: 1.0000 - val_loss: 2.1855e-07 - val_accuracy: 1.0000 - 11s/epoch - 11s/step\n",
            "Epoch 173/250\n",
            "1/1 - 8s - loss: 2.6092e-04 - accuracy: 1.0000 - val_loss: 1.8875e-07 - val_accuracy: 1.0000 - 8s/epoch - 8s/step\n",
            "Epoch 174/250\n",
            "1/1 - 12s - loss: 0.0010 - accuracy: 1.0000 - val_loss: 2.0862e-07 - val_accuracy: 1.0000 - 12s/epoch - 12s/step\n",
            "Epoch 175/250\n",
            "1/1 - 9s - loss: 1.2221e-04 - accuracy: 1.0000 - val_loss: 2.3842e-07 - val_accuracy: 1.0000 - 9s/epoch - 9s/step\n",
            "Epoch 176/250\n",
            "1/1 - 12s - loss: 3.4059e-04 - accuracy: 1.0000 - val_loss: 2.4835e-07 - val_accuracy: 1.0000 - 12s/epoch - 12s/step\n",
            "Epoch 177/250\n",
            "1/1 - 9s - loss: 0.0030 - accuracy: 1.0000 - val_loss: 5.9604e-07 - val_accuracy: 1.0000 - 9s/epoch - 9s/step\n",
            "Epoch 178/250\n",
            "1/1 - 17s - loss: 1.1707e-04 - accuracy: 1.0000 - val_loss: 2.4140e-06 - val_accuracy: 1.0000 - 17s/epoch - 17s/step\n",
            "Epoch 179/250\n",
            "1/1 - 15s - loss: 2.6364e-05 - accuracy: 1.0000 - val_loss: 1.4334e-05 - val_accuracy: 1.0000 - 15s/epoch - 15s/step\n",
            "Epoch 180/250\n",
            "1/1 - 10s - loss: 1.0086e-04 - accuracy: 1.0000 - val_loss: 1.0419e-04 - val_accuracy: 1.0000 - 10s/epoch - 10s/step\n",
            "Epoch 181/250\n",
            "1/1 - 11s - loss: 4.5732e-04 - accuracy: 1.0000 - val_loss: 6.1317e-04 - val_accuracy: 1.0000 - 11s/epoch - 11s/step\n",
            "Epoch 182/250\n",
            "1/1 - 10s - loss: 2.2803e-04 - accuracy: 1.0000 - val_loss: 0.0029 - val_accuracy: 1.0000 - 10s/epoch - 10s/step\n",
            "Epoch 183/250\n",
            "1/1 - 10s - loss: 0.0014 - accuracy: 1.0000 - val_loss: 6.8562e-04 - val_accuracy: 1.0000 - 10s/epoch - 10s/step\n",
            "Epoch 184/250\n",
            "1/1 - 10s - loss: 6.5483e-04 - accuracy: 1.0000 - val_loss: 1.8264e-04 - val_accuracy: 1.0000 - 10s/epoch - 10s/step\n",
            "Epoch 185/250\n",
            "1/1 - 10s - loss: 0.0022 - accuracy: 1.0000 - val_loss: 4.8038e-05 - val_accuracy: 1.0000 - 10s/epoch - 10s/step\n",
            "Epoch 186/250\n",
            "1/1 - 11s - loss: 6.2001e-04 - accuracy: 1.0000 - val_loss: 1.3400e-05 - val_accuracy: 1.0000 - 11s/epoch - 11s/step\n",
            "Epoch 187/250\n",
            "1/1 - 9s - loss: 9.5031e-05 - accuracy: 1.0000 - val_loss: 5.0265e-06 - val_accuracy: 1.0000 - 9s/epoch - 9s/step\n",
            "Epoch 188/250\n",
            "1/1 - 11s - loss: 1.7272e-04 - accuracy: 1.0000 - val_loss: 2.2848e-06 - val_accuracy: 1.0000 - 11s/epoch - 11s/step\n",
            "Epoch 189/250\n",
            "1/1 - 8s - loss: 5.1777e-04 - accuracy: 1.0000 - val_loss: 1.5000e-06 - val_accuracy: 1.0000 - 8s/epoch - 8s/step\n",
            "Epoch 190/250\n",
            "1/1 - 12s - loss: 7.0395e-04 - accuracy: 1.0000 - val_loss: 9.4374e-07 - val_accuracy: 1.0000 - 12s/epoch - 12s/step\n",
            "Epoch 191/250\n",
            "1/1 - 8s - loss: 6.2582e-04 - accuracy: 1.0000 - val_loss: 6.8545e-07 - val_accuracy: 1.0000 - 8s/epoch - 8s/step\n",
            "Epoch 192/250\n",
            "1/1 - 12s - loss: 4.3263e-04 - accuracy: 1.0000 - val_loss: 5.7618e-07 - val_accuracy: 1.0000 - 12s/epoch - 12s/step\n",
            "Epoch 193/250\n",
            "1/1 - 8s - loss: 2.1955e-04 - accuracy: 1.0000 - val_loss: 5.6624e-07 - val_accuracy: 1.0000 - 8s/epoch - 8s/step\n",
            "Epoch 194/250\n",
            "1/1 - 12s - loss: 7.6944e-04 - accuracy: 1.0000 - val_loss: 5.8611e-07 - val_accuracy: 1.0000 - 12s/epoch - 12s/step\n",
            "Epoch 195/250\n",
            "1/1 - 8s - loss: 5.1944e-04 - accuracy: 1.0000 - val_loss: 6.3578e-07 - val_accuracy: 1.0000 - 8s/epoch - 8s/step\n",
            "Epoch 196/250\n",
            "1/1 - 12s - loss: 0.0039 - accuracy: 1.0000 - val_loss: 1.3411e-06 - val_accuracy: 1.0000 - 12s/epoch - 12s/step\n",
            "Epoch 197/250\n",
            "1/1 - 9s - loss: 1.2462e-04 - accuracy: 1.0000 - val_loss: 3.5862e-06 - val_accuracy: 1.0000 - 9s/epoch - 9s/step\n",
            "Epoch 198/250\n",
            "1/1 - 11s - loss: 2.4284e-04 - accuracy: 1.0000 - val_loss: 9.8541e-06 - val_accuracy: 1.0000 - 11s/epoch - 11s/step\n",
            "Epoch 199/250\n",
            "1/1 - 10s - loss: 5.9474e-04 - accuracy: 1.0000 - val_loss: 2.9857e-05 - val_accuracy: 1.0000 - 10s/epoch - 10s/step\n",
            "Epoch 200/250\n",
            "1/1 - 12s - loss: 7.9155e-04 - accuracy: 1.0000 - val_loss: 7.2607e-05 - val_accuracy: 1.0000 - 12s/epoch - 12s/step\n",
            "Epoch 201/250\n",
            "1/1 - 13s - loss: 1.5453e-04 - accuracy: 1.0000 - val_loss: 1.9241e-04 - val_accuracy: 1.0000 - 13s/epoch - 13s/step\n",
            "Epoch 202/250\n",
            "1/1 - 8s - loss: 0.0100 - accuracy: 0.9956 - val_loss: 2.6972e-04 - val_accuracy: 1.0000 - 8s/epoch - 8s/step\n",
            "Epoch 203/250\n",
            "1/1 - 12s - loss: 6.0465e-04 - accuracy: 1.0000 - val_loss: 3.4274e-04 - val_accuracy: 1.0000 - 12s/epoch - 12s/step\n",
            "Epoch 204/250\n",
            "1/1 - 8s - loss: 5.5628e-04 - accuracy: 1.0000 - val_loss: 3.0901e-04 - val_accuracy: 1.0000 - 8s/epoch - 8s/step\n",
            "Epoch 205/250\n",
            "1/1 - 12s - loss: 3.8588e-04 - accuracy: 1.0000 - val_loss: 2.3538e-04 - val_accuracy: 1.0000 - 12s/epoch - 12s/step\n",
            "Epoch 206/250\n",
            "1/1 - 11s - loss: 1.9389e-04 - accuracy: 1.0000 - val_loss: 1.7267e-04 - val_accuracy: 1.0000 - 11s/epoch - 11s/step\n",
            "Epoch 207/250\n",
            "1/1 - 11s - loss: 3.6432e-04 - accuracy: 1.0000 - val_loss: 1.1984e-04 - val_accuracy: 1.0000 - 11s/epoch - 11s/step\n",
            "Epoch 208/250\n",
            "1/1 - 10s - loss: 0.0052 - accuracy: 0.9956 - val_loss: 4.1296e-05 - val_accuracy: 1.0000 - 10s/epoch - 10s/step\n",
            "Epoch 209/250\n",
            "1/1 - 10s - loss: 0.0013 - accuracy: 1.0000 - val_loss: 1.5446e-05 - val_accuracy: 1.0000 - 10s/epoch - 10s/step\n",
            "Epoch 210/250\n",
            "1/1 - 11s - loss: 4.7014e-04 - accuracy: 1.0000 - val_loss: 7.9469e-06 - val_accuracy: 1.0000 - 11s/epoch - 11s/step\n",
            "Epoch 211/250\n",
            "1/1 - 9s - loss: 0.0023 - accuracy: 1.0000 - val_loss: 5.1159e-06 - val_accuracy: 1.0000 - 9s/epoch - 9s/step\n",
            "Epoch 212/250\n",
            "1/1 - 11s - loss: 3.3830e-04 - accuracy: 1.0000 - val_loss: 4.1623e-06 - val_accuracy: 1.0000 - 11s/epoch - 11s/step\n",
            "Epoch 213/250\n",
            "1/1 - 9s - loss: 5.8034e-04 - accuracy: 1.0000 - val_loss: 3.7948e-06 - val_accuracy: 1.0000 - 9s/epoch - 9s/step\n",
            "Epoch 214/250\n",
            "1/1 - 11s - loss: 0.0080 - accuracy: 1.0000 - val_loss: 8.4039e-06 - val_accuracy: 1.0000 - 11s/epoch - 11s/step\n",
            "Epoch 215/250\n",
            "1/1 - 8s - loss: 0.0091 - accuracy: 0.9912 - val_loss: 4.2318e-06 - val_accuracy: 1.0000 - 8s/epoch - 8s/step\n",
            "Epoch 216/250\n",
            "1/1 - 11s - loss: 4.5533e-04 - accuracy: 1.0000 - val_loss: 3.0001e-06 - val_accuracy: 1.0000 - 11s/epoch - 11s/step\n",
            "Epoch 217/250\n",
            "1/1 - 8s - loss: 0.0011 - accuracy: 1.0000 - val_loss: 2.7319e-06 - val_accuracy: 1.0000 - 8s/epoch - 8s/step\n",
            "Epoch 218/250\n",
            "1/1 - 12s - loss: 8.5615e-04 - accuracy: 1.0000 - val_loss: 2.7021e-06 - val_accuracy: 1.0000 - 12s/epoch - 12s/step\n",
            "Epoch 219/250\n",
            "1/1 - 8s - loss: 0.0012 - accuracy: 1.0000 - val_loss: 2.5729e-06 - val_accuracy: 1.0000 - 8s/epoch - 8s/step\n",
            "Epoch 220/250\n",
            "1/1 - 12s - loss: 0.0069 - accuracy: 1.0000 - val_loss: 2.7418e-06 - val_accuracy: 1.0000 - 12s/epoch - 12s/step\n",
            "Epoch 221/250\n",
            "1/1 - 9s - loss: 0.0035 - accuracy: 1.0000 - val_loss: 3.4272e-06 - val_accuracy: 1.0000 - 9s/epoch - 9s/step\n",
            "Epoch 222/250\n",
            "1/1 - 11s - loss: 0.0014 - accuracy: 1.0000 - val_loss: 5.4835e-06 - val_accuracy: 1.0000 - 11s/epoch - 11s/step\n",
            "Epoch 223/250\n",
            "1/1 - 9s - loss: 6.6248e-04 - accuracy: 1.0000 - val_loss: 8.7913e-06 - val_accuracy: 1.0000 - 9s/epoch - 9s/step\n",
            "Epoch 224/250\n",
            "1/1 - 11s - loss: 3.3108e-04 - accuracy: 1.0000 - val_loss: 1.3688e-05 - val_accuracy: 1.0000 - 11s/epoch - 11s/step\n",
            "Epoch 225/250\n",
            "1/1 - 10s - loss: 0.0125 - accuracy: 0.9912 - val_loss: 1.8098e-05 - val_accuracy: 1.0000 - 10s/epoch - 10s/step\n",
            "Epoch 226/250\n",
            "1/1 - 10s - loss: 2.1606e-04 - accuracy: 1.0000 - val_loss: 2.3154e-05 - val_accuracy: 1.0000 - 10s/epoch - 10s/step\n",
            "Epoch 227/250\n",
            "1/1 - 10s - loss: 0.0010 - accuracy: 1.0000 - val_loss: 2.8378e-05 - val_accuracy: 1.0000 - 10s/epoch - 10s/step\n",
            "Epoch 228/250\n",
            "1/1 - 10s - loss: 5.3632e-04 - accuracy: 1.0000 - val_loss: 3.3424e-05 - val_accuracy: 1.0000 - 10s/epoch - 10s/step\n",
            "Epoch 229/250\n",
            "1/1 - 11s - loss: 6.1231e-04 - accuracy: 1.0000 - val_loss: 3.7645e-05 - val_accuracy: 1.0000 - 11s/epoch - 11s/step\n",
            "Epoch 230/250\n",
            "1/1 - 9s - loss: 0.0019 - accuracy: 1.0000 - val_loss: 3.9522e-05 - val_accuracy: 1.0000 - 9s/epoch - 9s/step\n",
            "Epoch 231/250\n",
            "1/1 - 11s - loss: 0.0040 - accuracy: 1.0000 - val_loss: 3.9830e-05 - val_accuracy: 1.0000 - 11s/epoch - 11s/step\n",
            "Epoch 232/250\n",
            "1/1 - 8s - loss: 0.0019 - accuracy: 1.0000 - val_loss: 3.4437e-05 - val_accuracy: 1.0000 - 8s/epoch - 8s/step\n",
            "Epoch 233/250\n",
            "1/1 - 11s - loss: 6.3006e-04 - accuracy: 1.0000 - val_loss: 2.7247e-05 - val_accuracy: 1.0000 - 11s/epoch - 11s/step\n",
            "Epoch 234/250\n",
            "1/1 - 12s - loss: 0.0013 - accuracy: 1.0000 - val_loss: 1.7483e-05 - val_accuracy: 1.0000 - 12s/epoch - 12s/step\n",
            "Epoch 235/250\n",
            "1/1 - 11s - loss: 8.0875e-04 - accuracy: 1.0000 - val_loss: 1.1404e-05 - val_accuracy: 1.0000 - 11s/epoch - 11s/step\n",
            "Epoch 236/250\n",
            "1/1 - 9s - loss: 5.5528e-04 - accuracy: 1.0000 - val_loss: 7.6689e-06 - val_accuracy: 1.0000 - 9s/epoch - 9s/step\n",
            "Epoch 237/250\n",
            "1/1 - 18s - loss: 0.0080 - accuracy: 0.9956 - val_loss: 7.1127e-06 - val_accuracy: 1.0000 - 18s/epoch - 18s/step\n",
            "Epoch 238/250\n",
            "1/1 - 12s - loss: 6.6057e-04 - accuracy: 1.0000 - val_loss: 7.0928e-06 - val_accuracy: 1.0000 - 12s/epoch - 12s/step\n",
            "Epoch 239/250\n",
            "1/1 - 8s - loss: 5.1631e-04 - accuracy: 1.0000 - val_loss: 6.9239e-06 - val_accuracy: 1.0000 - 8s/epoch - 8s/step\n",
            "Epoch 240/250\n",
            "1/1 - 12s - loss: 0.0026 - accuracy: 1.0000 - val_loss: 1.0728e-05 - val_accuracy: 1.0000 - 12s/epoch - 12s/step\n",
            "Epoch 241/250\n",
            "1/1 - 9s - loss: 0.0043 - accuracy: 1.0000 - val_loss: 6.4968e-06 - val_accuracy: 1.0000 - 9s/epoch - 9s/step\n",
            "Epoch 242/250\n",
            "1/1 - 12s - loss: 2.9839e-04 - accuracy: 1.0000 - val_loss: 4.8279e-06 - val_accuracy: 1.0000 - 12s/epoch - 12s/step\n",
            "Epoch 243/250\n",
            "1/1 - 9s - loss: 8.6615e-04 - accuracy: 1.0000 - val_loss: 4.1723e-06 - val_accuracy: 1.0000 - 9s/epoch - 9s/step\n",
            "Epoch 244/250\n",
            "1/1 - 11s - loss: 0.0012 - accuracy: 1.0000 - val_loss: 4.0332e-06 - val_accuracy: 1.0000 - 11s/epoch - 11s/step\n",
            "Epoch 245/250\n",
            "1/1 - 10s - loss: 5.8098e-04 - accuracy: 1.0000 - val_loss: 3.7948e-06 - val_accuracy: 1.0000 - 10s/epoch - 10s/step\n",
            "Epoch 246/250\n",
            "1/1 - 10s - loss: 0.0013 - accuracy: 1.0000 - val_loss: 4.6491e-06 - val_accuracy: 1.0000 - 10s/epoch - 10s/step\n",
            "Epoch 247/250\n",
            "1/1 - 10s - loss: 0.0068 - accuracy: 1.0000 - val_loss: 6.4074e-06 - val_accuracy: 1.0000 - 10s/epoch - 10s/step\n",
            "Epoch 248/250\n",
            "1/1 - 10s - loss: 9.0938e-04 - accuracy: 1.0000 - val_loss: 9.6159e-06 - val_accuracy: 1.0000 - 10s/epoch - 10s/step\n",
            "Epoch 249/250\n",
            "1/1 - 11s - loss: 5.4183e-04 - accuracy: 1.0000 - val_loss: 1.4026e-05 - val_accuracy: 1.0000 - 11s/epoch - 11s/step\n",
            "Epoch 250/250\n",
            "1/1 - 9s - loss: 0.0024 - accuracy: 1.0000 - val_loss: 1.9519e-05 - val_accuracy: 1.0000 - 9s/epoch - 9s/step\n"
          ]
        }
      ],
      "source": [
        "history=cnn_model.fit(\n",
        "    np.array(x_train), np.array(y_train), batch_size=512,\n",
        "    epochs=250, verbose=2,\n",
        "    validation_data=(np.array(x_valid),np.array(y_valid)),\n",
        ")"
      ]
    },
    {
      "cell_type": "markdown",
      "metadata": {
        "id": "NTLRkxuTHrPc"
      },
      "source": [
        "Evaluate the test data\n"
      ]
    },
    {
      "cell_type": "code",
      "execution_count": 45,
      "metadata": {
        "colab": {
          "base_uri": "https://localhost:8080/"
        },
        "id": "Y2V1OOMKHrPd",
        "outputId": "9ab02ca4-d735-454f-c1dc-443893018844"
      },
      "outputs": [
        {
          "output_type": "stream",
          "name": "stdout",
          "text": [
            "test los 0.4201\n",
            "test acc 0.9563\n"
          ]
        }
      ],
      "source": [
        "scor = cnn_model.evaluate( np.array(x_test),  np.array(y_test), verbose=0)\n",
        "\n",
        "print('test los {:.4f}'.format(scor[0]))\n",
        "print('test acc {:.4f}'.format(scor[1]))"
      ]
    },
    {
      "cell_type": "markdown",
      "metadata": {
        "id": "2PYib93hHrPe"
      },
      "source": [
        "# Step 7\n",
        "\n",
        "plot the result"
      ]
    },
    {
      "cell_type": "code",
      "execution_count": 48,
      "metadata": {
        "colab": {
          "base_uri": "https://localhost:8080/",
          "height": 944
        },
        "id": "tHnsxOdGHrPe",
        "outputId": "90734a68-ced1-4fc0-8a73-323f9d9988ab"
      },
      "outputs": [
        {
          "output_type": "stream",
          "name": "stdout",
          "text": [
            "dict_keys(['loss', 'accuracy', 'val_loss', 'val_accuracy'])\n"
          ]
        },
        {
          "output_type": "display_data",
          "data": {
            "text/plain": [
              "<Figure size 640x480 with 1 Axes>"
            ],
            "image/png": "[encoded data removed]"
          },
          "metadata": {}
        },
        {
          "output_type": "display_data",
          "data": {
            "text/plain": [
              "<Figure size 640x480 with 1 Axes>"
            ],
            "image/png": "[encoded data removed]"
          },
          "metadata": {}
        }
      ],
      "source": [
        "# list all data in history\n",
        "print(history.history.keys())\n",
        "# summarize history for accuracy\n",
        "plt.plot(history.history['accuracy'])\n",
        "plt.plot(history.history['val_accuracy'])\n",
        "plt.title('model accuracy')\n",
        "plt.ylabel('accuracy')\n",
        "plt.xlabel('epoch')\n",
        "plt.legend(['train', 'test'], loc='upper left')\n",
        "plt.show()\n",
        "# summarize history for loss\n",
        "plt.plot(history.history['loss'])\n",
        "plt.plot(history.history['val_loss'])\n",
        "plt.title('model loss')\n",
        "plt.ylabel('loss')\n",
        "plt.xlabel('epoch')\n",
        "plt.legend(['train', 'test'], loc='upper left')\n",
        "plt.show()"
      ]
    },
    {
      "cell_type": "markdown",
      "metadata": {
        "id": "sc_3O9TdHrPf"
      },
      "source": [
        "# step 8\n",
        "\n",
        "Plot Confusion Matrix"
      ]
    },
    {
      "cell_type": "code",
      "execution_count": 56,
      "metadata": {
        "colab": {
          "base_uri": "https://localhost:8080/",
          "height": 1000
        },
        "id": "izONkZRVHrPf",
        "outputId": "31dc30a7-bb04-475c-ad47-e31168ea22bb"
      },
      "outputs": [
        {
          "output_type": "stream",
          "name": "stdout",
          "text": [
            "5/5 [==============================] - 1s 298ms/step\n",
            "5/5 [==============================] - 2s 515ms/step\n",
            "accuracy : \n",
            "0.95625\n",
            "Confusion matrix, without normalization\n",
            "[[8 0 0 0 0 0 0 0 0 0 0 0 0 0 0 0 0 0 0 0]\n",
            " [0 8 0 0 0 0 0 0 0 0 0 0 0 0 0 0 0 0 0 0]\n",
            " [0 0 8 0 0 0 0 0 0 0 0 0 0 0 0 0 0 0 0 0]\n",
            " [0 0 0 8 0 0 0 0 0 0 0 0 0 0 0 0 0 0 0 0]\n",
            " [0 0 0 0 6 0 0 0 0 0 0 0 0 0 0 0 0 2 0 0]\n",
            " [0 0 0 0 0 8 0 0 0 0 0 0 0 0 0 0 0 0 0 0]\n",
            " [0 0 0 0 0 0 8 0 0 0 0 0 0 0 0 0 0 0 0 0]\n",
            " [0 0 0 0 0 0 0 8 0 0 0 0 0 0 0 0 0 0 0 0]\n",
            " [0 0 0 0 0 0 0 0 8 0 0 0 0 0 0 0 0 0 0 0]\n",
            " [0 0 0 0 0 0 0 2 0 6 0 0 0 0 0 0 0 0 0 0]\n",
            " [0 0 0 0 0 0 0 0 0 0 8 0 0 0 0 0 0 0 0 0]\n",
            " [0 0 0 0 0 0 0 0 0 0 0 8 0 0 0 0 0 0 0 0]\n",
            " [0 0 0 0 0 0 0 0 0 0 0 0 8 0 0 0 0 0 0 0]\n",
            " [0 0 0 0 0 0 0 0 0 0 0 0 0 8 0 0 0 0 0 0]\n",
            " [0 0 0 0 0 0 0 0 0 0 0 0 0 0 8 0 0 0 0 0]\n",
            " [1 0 0 0 0 0 0 0 0 0 0 0 0 0 0 7 0 0 0 0]\n",
            " [0 0 0 0 0 0 0 0 0 0 0 0 0 0 0 0 8 0 0 0]\n",
            " [0 0 0 0 0 0 0 0 0 0 0 0 0 0 0 0 0 8 0 0]\n",
            " [0 0 0 0 0 0 0 2 0 0 0 0 0 0 0 0 0 0 6 0]\n",
            " [0 0 0 0 0 0 0 0 0 0 0 0 0 0 0 0 0 0 0 8]]\n",
            "Confusion matrix, without normalization\n"
          ]
        },
        {
          "output_type": "display_data",
          "data": {
            "text/plain": [
              "<Figure size 640x480 with 2 Axes>"
            ],
            "image/png": "[encoded data removed]"
          },
          "metadata": {}
        },
        {
          "output_type": "stream",
          "name": "stdout",
          "text": [
            "Confusion matrix, without normalization\n"
          ]
        },
        {
          "output_type": "display_data",
          "data": {
            "text/plain": [
              "<Figure size 640x480 with 2 Axes>"
            ],
            "image/png": "[encoded data removed]"
          },
          "metadata": {}
        },
        {
          "output_type": "stream",
          "name": "stdout",
          "text": [
            "Confusion matrix:\n",
            "[[8 0 0 0 0 0 0 0 0 0 0 0 0 0 0 0 0 0 0 0]\n",
            " [0 8 0 0 0 0 0 0 0 0 0 0 0 0 0 0 0 0 0 0]\n",
            " [0 0 8 0 0 0 0 0 0 0 0 0 0 0 0 0 0 0 0 0]\n",
            " [0 0 0 8 0 0 0 0 0 0 0 0 0 0 0 0 0 0 0 0]\n",
            " [0 0 0 0 6 0 0 0 0 0 0 0 0 0 0 0 0 2 0 0]\n",
            " [0 0 0 0 0 8 0 0 0 0 0 0 0 0 0 0 0 0 0 0]\n",
            " [0 0 0 0 0 0 8 0 0 0 0 0 0 0 0 0 0 0 0 0]\n",
            " [0 0 0 0 0 0 0 8 0 0 0 0 0 0 0 0 0 0 0 0]\n",
            " [0 0 0 0 0 0 0 0 8 0 0 0 0 0 0 0 0 0 0 0]\n",
            " [0 0 0 0 0 0 0 2 0 6 0 0 0 0 0 0 0 0 0 0]\n",
            " [0 0 0 0 0 0 0 0 0 0 8 0 0 0 0 0 0 0 0 0]\n",
            " [0 0 0 0 0 0 0 0 0 0 0 8 0 0 0 0 0 0 0 0]\n",
            " [0 0 0 0 0 0 0 0 0 0 0 0 8 0 0 0 0 0 0 0]\n",
            " [0 0 0 0 0 0 0 0 0 0 0 0 0 8 0 0 0 0 0 0]\n",
            " [0 0 0 0 0 0 0 0 0 0 0 0 0 0 8 0 0 0 0 0]\n",
            " [1 0 0 0 0 0 0 0 0 0 0 0 0 0 0 7 0 0 0 0]\n",
            " [0 0 0 0 0 0 0 0 0 0 0 0 0 0 0 0 8 0 0 0]\n",
            " [0 0 0 0 0 0 0 0 0 0 0 0 0 0 0 0 0 8 0 0]\n",
            " [0 0 0 0 0 0 0 2 0 0 0 0 0 0 0 0 0 0 6 0]\n",
            " [0 0 0 0 0 0 0 0 0 0 0 0 0 0 0 0 0 0 0 8]]\n",
            "              precision    recall  f1-score   support\n",
            "\n",
            "           0       0.89      1.00      0.94         8\n",
            "           1       1.00      1.00      1.00         8\n",
            "           2       1.00      1.00      1.00         8\n",
            "           3       1.00      1.00      1.00         8\n",
            "           4       1.00      0.75      0.86         8\n",
            "           5       1.00      1.00      1.00         8\n",
            "           6       1.00      1.00      1.00         8\n",
            "           7       0.67      1.00      0.80         8\n",
            "           8       1.00      1.00      1.00         8\n",
            "           9       1.00      0.75      0.86         8\n",
            "          10       1.00      1.00      1.00         8\n",
            "          11       1.00      1.00      1.00         8\n",
            "          12       1.00      1.00      1.00         8\n",
            "          13       1.00      1.00      1.00         8\n",
            "          14       1.00      1.00      1.00         8\n",
            "          15       1.00      0.88      0.93         8\n",
            "          16       1.00      1.00      1.00         8\n",
            "          17       0.80      1.00      0.89         8\n",
            "          18       1.00      0.75      0.86         8\n",
            "          19       1.00      1.00      1.00         8\n",
            "\n",
            "    accuracy                           0.96       160\n",
            "   macro avg       0.97      0.96      0.96       160\n",
            "weighted avg       0.97      0.96      0.96       160\n",
            "\n"
          ]
        }
      ],
      "source": [
        "predicted =np.array( cnn_model.predict(x_test))\n",
        "#print(predicted)\n",
        "#print(y_test)\n",
        "ynew = np.argmax(cnn_model.predict(x_test), axis=-1)\n",
        "\n",
        "\n",
        "Acc=accuracy_score(y_test, ynew)\n",
        "print(\"accuracy : \")\n",
        "print(Acc)\n",
        "#/tn, fp, fn, tp = confusion_matrix(np.array(y_test), ynew).ravel()\n",
        "cnf_matrix=confusion_matrix(np.array(y_test), ynew)\n",
        "\n",
        "y_test1 = np_utils.to_categorical(y_test, 20)\n",
        "\n",
        "\n",
        "\n",
        "def plot_confusion_matrix(cm, classes,\n",
        "                          normalize=False,\n",
        "                          title='Confusion matrix',\n",
        "                          cmap=plt.cm.Blues):\n",
        "    \"\"\"\n",
        "    This function prints and plots the confusion matrix.\n",
        "    Normalization can be applied by setting `normalize=True`.\n",
        "    \"\"\"\n",
        "    if normalize:\n",
        "        cm = cm.astype('float') / cm.sum(axis=1)[:, np.newaxis]\n",
        "        #print(\"Normalized confusion matrix\")\n",
        "    else:\n",
        "        print('Confusion matrix, without normalization')\n",
        "\n",
        "    #print(cm)\n",
        "    plt.imshow(cm, interpolation='nearest', cmap=cmap)\n",
        "    plt.title(title)\n",
        "    plt.colorbar()\n",
        "    tick_marks = np.arange(len(classes))\n",
        "    plt.xticks(tick_marks, classes, rotation=45)\n",
        "    plt.yticks(tick_marks, classes)\n",
        "\n",
        "    fmt = '.2f' if normalize else 'd'\n",
        "    thresh = cm.max() / 2.\n",
        "    for i, j in itertools.product(range(cm.shape[0]), range(cm.shape[1])):\n",
        "        plt.text(j, i, format(cm[i, j], fmt),\n",
        "                 horizontalalignment=\"center\",\n",
        "                 color=\"white\" if cm[i, j] > thresh else \"black\")\n",
        "\n",
        "    plt.tight_layout()\n",
        "    plt.ylabel('True label')\n",
        "    plt.xlabel('Predicted label')\n",
        "    plt.show()\n",
        "\n",
        "\n",
        "print('Confusion matrix, without normalization')\n",
        "print(cnf_matrix)\n",
        "\n",
        "plt.figure()\n",
        "plot_confusion_matrix(cnf_matrix[1:10,1:10], classes=[0,1,2,3,4,5,6,7,8,9],\n",
        "                      title='Confusion matrix, without normalization')\n",
        "\n",
        "plt.figure()\n",
        "plot_confusion_matrix(cnf_matrix[11:20,11:20], classes=[10,11,12,13,14,15,16,17,18,19],\n",
        "                      title='Confusion matrix, without normalization')\n",
        "\n",
        "print(\"Confusion matrix:\\n%s\" % confusion_matrix(np.array(y_test), ynew))\n",
        "print(classification_report(np.array(y_test), ynew))"
      ]
    }
  ],
  "metadata": {
    "kernelspec": {
      "display_name": "Python 3",
      "language": "python",
      "name": "python3"
    },
    "language_info": {
      "codemirror_mode": {
        "name": "ipython",
        "version": 3
      },
      "file_extension": ".py",
      "mimetype": "text/x-python",
      "name": "python",
      "nbconvert_exporter": "python",
      "pygments_lexer": "ipython3",
      "version": "3.6.5"
    },
    "colab": {
      "provenance": []
    }
  },
  "nbformat": 4,
  "nbformat_minor": 0
}