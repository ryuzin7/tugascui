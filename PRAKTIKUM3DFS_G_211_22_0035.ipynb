{
  "nbformat": 4,
  "nbformat_minor": 0,
  "metadata": {
    "colab": {
      "provenance": []
    },
    "kernelspec": {
      "name": "python3",
      "display_name": "Python 3"
    },
    "language_info": {
      "name": "python"
    }
  },
  "cells": [
    {
      "cell_type": "code",
      "execution_count": null,
      "metadata": {
        "colab": {
          "base_uri": "https://localhost:8080/"
        },
        "id": "P2jCSOZgyW_P",
        "outputId": "10c217cc-52a6-48ec-9be1-db78d5bb75ba"
      },
      "outputs": [
        {
          "output_type": "stream",
          "name": "stdout",
          "text": [
            "A B S C D E "
          ]
        }
      ],
      "source": [
        "# Definisi struktur graf\n",
        "graph = {\n",
        "    'A': ['B', 'S'],\n",
        "    'B': ['A'],\n",
        "    'S': ['A', 'C'],\n",
        "    'C': ['S', 'D', 'E'],\n",
        "    'D': ['C'],\n",
        "    'E': ['C']\n",
        "}\n",
        "\n",
        "# Fungsi DFS rekursif\n",
        "def dfs(node, visited):\n",
        "    if node not in visited:\n",
        "        print(node, end=' ')\n",
        "        visited.add(node)\n",
        "        for neighbor in graph[node]:\n",
        "            dfs(neighbor, visited)\n",
        "\n",
        "# Memulai DFS dari node 'A'\n",
        "visited_nodes = set()\n",
        "dfs('A', visited_nodes)"
      ]
    }
  ]
}